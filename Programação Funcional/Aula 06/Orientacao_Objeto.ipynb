{
  "nbformat": 4,
  "nbformat_minor": 0,
  "metadata": {
    "colab": {
      "provenance": []
    },
    "kernelspec": {
      "name": "python3",
      "display_name": "Python 3"
    }
  },
  "cells": [
    {
      "cell_type": "code",
      "metadata": {
        "id": "3juPAYTNJjiG",
        "colab": {
          "base_uri": "https://localhost:8080/",
          "height": 86
        },
        "outputId": "bc737d77-207e-4d20-ff57-9a754e2e90ef"
      },
      "source": [
        "class Pessoa:\n",
        "  def __init__(self, altura, cor_cabelo, peso):\n",
        "    self.altura = altura\n",
        "    self.cor_cabelo = cor_cabelo\n",
        "    self.peso = peso\n",
        "\n",
        "  def falar(self, frase):\n",
        "    return frase\n",
        "\n",
        "  def andar(self, velocidade=5):\n",
        "    velocidade_real = velocidade - 0.01*self.peso\n",
        "    return velocidade_real\n",
        "\n",
        "class Professor(Pessoa):\n",
        "  def __init__(self,altura, cor_cabelo, peso, salario):\n",
        "    super().__init__(altura, cor_cabelo, peso)\n",
        "    self.salario = salario\n",
        "\n",
        "  def falar(self, frase):\n",
        "    return frase + ' Vai cair na prova !'\n",
        "\n",
        "\n",
        "def main():\n",
        "  pessoaObj = Pessoa(1.8, 'castanho', 95.0)\n",
        "  print(pessoaObj.falar('Teste'))\n",
        "  print('A velocidade atual é: ' + str(pessoaObj.andar(7)))\n",
        "\n",
        "  professorObj = Professor(1.9, 'castanho', 89.0, 2000.0)\n",
        "  print(professorObj.falar('Teste 2'))\n",
        "  print('A velocidade atual é: ' + str(professorObj.andar(4)))\n",
        "\n",
        "if __name__ == '__main__':\n",
        "  main()\n"
      ],
      "execution_count": null,
      "outputs": [
        {
          "output_type": "stream",
          "text": [
            "Teste\n",
            "A velocidade atual é: 6.05\n",
            "Teste 2 Vai cair na prova !\n",
            "A velocidade atual é: 3.11\n"
          ],
          "name": "stdout"
        }
      ]
    }
  ]
}