{
 "cells": [
  {
   "cell_type": "code",
   "execution_count": 1,
   "metadata": {},
   "outputs": [
    {
     "name": "stdout",
     "output_type": "stream",
     "text": [
      "olá mundo\n"
     ]
    }
   ],
   "source": [
    "print(\"olá mundo\")"
   ]
  },
  {
   "cell_type": "code",
   "execution_count": 6,
   "metadata": {},
   "outputs": [
    {
     "name": "stdout",
     "output_type": "stream",
     "text": [
      "True\n",
      "False\n",
      "2.2\n",
      "Aqui eu falo na minha lingua\n",
      "Também funciona com aspas duplas\n",
      "Você é muito muito muito legal!\n",
      "None\n"
     ]
    }
   ],
   "source": [
    "print(True)\n",
    "print(False)\n",
    "print(1.2 + 1)\n",
    "print('Aqui eu falo na minha lingua')\n",
    "print(\"Também funciona com aspas duplas\")\n",
    "#print(3 + '3')\n",
    "print('Você é ' + 3 * 'muito ' + 'legal!')\n",
    "print(None)"
   ]
  },
  {
   "cell_type": "code",
   "execution_count": 19,
   "metadata": {},
   "outputs": [
    {
     "name": "stdout",
     "output_type": "stream",
     "text": [
      "<class 'str'>\n",
      "<class 'int'>\n",
      "<class 'tuple'>\n",
      "<class 'str'>\n"
     ]
    },
    {
     "data": {
      "text/plain": [
       "'Texto com múltiplas\\n... linhas'"
      ]
     },
     "execution_count": 19,
     "metadata": {},
     "output_type": "execute_result"
    }
   ],
   "source": [
    "dir(str)\n",
    "nome = 'Bruno Aly'\n",
    "print(type(nome))\n",
    "nome = 3\n",
    "print(type(nome))\n",
    "nome = 3,1415\n",
    "print(type(nome))\n",
    "nome = 'Bruno aly'\n",
    "print(type(nome))\n",
    "\n",
    "'André Insardi' == 'André Insardi'\n",
    "texto = 'Texto entre apostrófos pode ter \"aspas\"'\n",
    "texto\n",
    "\n",
    "doc = \"\"\"Texto com múltiplas\n",
    "... linhas\"\"\"\n",
    "doc\n",
    "\n"
   ]
  },
  {
   "cell_type": "code",
   "execution_count": 14,
   "metadata": {},
   "outputs": [
    {
     "data": {
      "text/plain": [
       "' no'"
      ]
     },
     "execution_count": 14,
     "metadata": {},
     "output_type": "execute_result"
    }
   ],
   "source": [
    "nome = 'Um nome qualquer'\n",
    "nome[0]\n",
    "nome[6]\n",
    "nome[-3]\n",
    "nome[4:]\n",
    "nome[-5:]\n",
    "nome[5]\n",
    "nome[:5]\n",
    "nome[2:5]"
   ]
  }
 ],
 "metadata": {
  "kernelspec": {
   "display_name": "Python 3",
   "language": "python",
   "name": "python3"
  },
  "language_info": {
   "codemirror_mode": {
    "name": "ipython",
    "version": 3
   },
   "file_extension": ".py",
   "mimetype": "text/x-python",
   "name": "python",
   "nbconvert_exporter": "python",
   "pygments_lexer": "ipython3",
   "version": "3.12.2"
  }
 },
 "nbformat": 4,
 "nbformat_minor": 2
}
