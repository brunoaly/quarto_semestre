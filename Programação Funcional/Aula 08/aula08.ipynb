{
 "cells": [
  {
   "cell_type": "markdown",
   "metadata": {},
   "source": [
    "Lambda"
   ]
  },
  {
   "cell_type": "code",
   "execution_count": 7,
   "metadata": {},
   "outputs": [
    {
     "name": "stdout",
     "output_type": "stream",
     "text": [
      "Processando: Dobros de 1 a 10\n",
      "1 => 2\n",
      "2 => 4\n",
      "3 => 6\n",
      "4 => 8\n",
      "5 => 10\n",
      "6 => 12\n",
      "7 => 14\n",
      "8 => 16\n",
      "9 => 18\n",
      "10 => 20\n"
     ]
    }
   ],
   "source": [
    "def processar(titulo, funcao, lista):\n",
    "    print(f'Processando: {titulo}')\n",
    "    for i in lista:\n",
    "        print(i, '=>', funcao(i))\n",
    "        \n",
    "        \n",
    "processar(\"Dobros de 1 a 10\", lambda x: x*2, range(1, 11))"
   ]
  },
  {
   "cell_type": "markdown",
   "metadata": {},
   "source": [
    "Map"
   ]
  },
  {
   "cell_type": "code",
   "execution_count": 6,
   "metadata": {},
   "outputs": [
    {
     "name": "stdout",
     "output_type": "stream",
     "text": [
      "[1, 4, 9]\n",
      "['João', 'Maria', 'José']\n"
     ]
    }
   ],
   "source": [
    "lista_1 = [1, 2, 3]\n",
    "\n",
    "\n",
    "a = map(lambda x: x**2, lista_1)\n",
    "print(list(a))\n",
    "\n",
    "list(map(lambda x: x**2, range(1, 4)))\n",
    "\n",
    "lista_2 = [\n",
    "    {'nome': 'João', 'idade': 31},\n",
    "    {'nome': 'Maria', 'idade': 37},\n",
    "    {'nome': 'José', 'idade': 26}\n",
    "]\n",
    "\n",
    "print(list(map(lambda p: p['nome'], lista_2)))\n"
   ]
  },
  {
   "cell_type": "markdown",
   "metadata": {},
   "source": [
    "Filter"
   ]
  },
  {
   "cell_type": "code",
   "execution_count": 5,
   "metadata": {},
   "outputs": [
    {
     "name": "stdout",
     "output_type": "stream",
     "text": [
      "[{'nome': 'Pedro', 'idade': 11}, {'nome': 'Rebeca', 'idade': 6}, {'nome': 'Gabriela', 'idade': 17}]\n"
     ]
    }
   ],
   "source": [
    "pessoas = [\n",
    "    {'nome': 'Pedro', 'idade': 11},\n",
    "    {'nome': 'Mariana', 'idade': 18},\n",
    "    {'nome': 'Arthur', 'idade': 26},\n",
    "    {'nome': 'Rebeca', 'idade': 6},\n",
    "    {'nome': 'Tiago', 'idade': 19},\n",
    "    {'nome': 'Gabriela', 'idade': 17},\n",
    "]\n",
    "\n",
    "menor = filter(lambda p: p['idade'] < 18, pessoas)\n",
    "print(list(menor))"
   ]
  },
  {
   "cell_type": "markdown",
   "metadata": {},
   "source": [
    "Reduce"
   ]
  },
  {
   "cell_type": "code",
   "execution_count": 7,
   "metadata": {},
   "outputs": [
    {
     "name": "stdout",
     "output_type": "stream",
     "text": [
      "97\n",
      "34\n"
     ]
    }
   ],
   "source": [
    "from functools import reduce\n",
    "\n",
    "pessoas = [\n",
    "    {'nome': 'Pedro', 'idade': 11},\n",
    "    {'nome': 'Mariana', 'idade': 18},\n",
    "    {'nome': 'Arthur', 'idade': 26},\n",
    "    {'nome': 'Rebeca', 'idade': 6},\n",
    "    {'nome': 'Tiago', 'idade': 19},\n",
    "    {'nome': 'Gabriela', 'idade': 17},\n",
    "]\n",
    "\n",
    "#Soma das idades\n",
    "somar_idades = reduce(lambda acumulador, item_proc: acumulador + item_proc['idade'], pessoas, 0)\n",
    "print(somar_idades)\n",
    "\n",
    "#Soma das idades menores que 18\n",
    "somar_idades = reduce(lambda acumulador, item_proc: acumulador + item_proc['idade'], filter(lambda x: x['idade'] < 18, pessoas), 0)\n",
    "print(somar_idades)\n"
   ]
  },
  {
   "cell_type": "markdown",
   "metadata": {},
   "source": [
    "Recursividade"
   ]
  },
  {
   "cell_type": "code",
   "execution_count": 8,
   "metadata": {},
   "outputs": [
    {
     "name": "stdout",
     "output_type": "stream",
     "text": [
      "24\n",
      "S! = 120\n"
     ]
    }
   ],
   "source": [
    "def fatorial_imp(n):\n",
    "    resultado = 1\n",
    "    for i in range(1,n+1):\n",
    "        resultado = resultado * i\n",
    "    return resultado\n",
    "\n",
    "def fatorial(n):\n",
    "    return n * (fatorial(n - 1) if (n-1) > 1 else 1)\n",
    "\n",
    "if __name__ == '__main__':\n",
    "    print(fatorial_imp(4))\n",
    "    print(f'S! = {fatorial(5)}')"
   ]
  }
 ],
 "metadata": {
  "kernelspec": {
   "display_name": "Python 3",
   "language": "python",
   "name": "python3"
  },
  "language_info": {
   "codemirror_mode": {
    "name": "ipython",
    "version": 3
   },
   "file_extension": ".py",
   "mimetype": "text/x-python",
   "name": "python",
   "nbconvert_exporter": "python",
   "pygments_lexer": "ipython3",
   "version": "3.12.2"
  }
 },
 "nbformat": 4,
 "nbformat_minor": 2
}
