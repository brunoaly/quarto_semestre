{
 "cells": [
  {
   "cell_type": "markdown",
   "metadata": {},
   "source": [
    "Exercício 1\n",
    "\n",
    "No paradigma funcional usando map retorne frases '<Nome> tem <idade> anos.' para o list a\n",
    "seguir"
   ]
  },
  {
   "cell_type": "code",
   "execution_count": 6,
   "metadata": {},
   "outputs": [
    {
     "name": "stdout",
     "output_type": "stream",
     "text": [
      "['João tem 31 anos', 'Maria tem 37 anos', 'José tem 26 anos']\n"
     ]
    }
   ],
   "source": [
    "lista = [\n",
    "    {'nome': 'João', 'idade': 31},\n",
    "    {'nome': 'Maria', 'idade': 37},\n",
    "    {'nome': 'José', 'idade': 26}\n",
    "]\n",
    "\n",
    "x = list(map(lambda pessoa: f\"{pessoa['nome']} tem {pessoa['idade']} anos\", lista))\n",
    "\n",
    "print(x)\n"
   ]
  },
  {
   "cell_type": "markdown",
   "metadata": {},
   "source": [
    "Exercício 2\n",
    "\n",
    "Utilizando apenas função lambda e as funções map, reduce e filter. Crie um script que some todas\n",
    "as idades das pessoas com menos de 18 anos:\n"
   ]
  },
  {
   "cell_type": "code",
   "execution_count": 8,
   "metadata": {},
   "outputs": [
    {
     "name": "stdout",
     "output_type": "stream",
     "text": [
      "34\n"
     ]
    }
   ],
   "source": [
    "from functools import reduce\n",
    "\n",
    "pessoas = [\n",
    "{'nome': 'Pedro', 'idade': 11},\n",
    "{'nome': 'Mariana', 'idade': 18},\n",
    "{'nome': 'Arthur', 'idade': 26},\n",
    "{'nome': 'Rebeca', 'idade': 6},\n",
    "{'nome': 'Tiago', 'idade': 19},\n",
    "{'nome': 'Gabriela', 'idade': 17},\n",
    "]\n",
    "\n",
    "somar_idades = reduce(lambda acumulador, item_proc: acumulador + item_proc['idade'], filter(lambda x: x['idade'] < 18, pessoas), 0)\n",
    "print(somar_idades)\n"
   ]
  },
  {
   "cell_type": "markdown",
   "metadata": {},
   "source": [
    "Exercício 3\n",
    "\n",
    "Utilizando o paradigma funcional. Faça uma função que calcule a progressão aritimetica de 0 -\n",
    "n com constante r = 1"
   ]
  },
  {
   "cell_type": "code",
   "execution_count": 9,
   "metadata": {},
   "outputs": [
    {
     "name": "stdout",
     "output_type": "stream",
     "text": [
      "[0, 1, 2, 3, 4, 5, 6, 7, 8, 9]\n"
     ]
    }
   ],
   "source": [
    "from functools import reduce\n",
    "\n",
    "def progressao_aritmetica(n):\n",
    "    return list(map(lambda i: i, range(n)))\n",
    "\n",
    "print(progressao_aritmetica(10))\n"
   ]
  },
  {
   "cell_type": "markdown",
   "metadata": {},
   "source": [
    "Exercício 4\n",
    "\n",
    "Faça uma sequencia Fibonacci de 10 elementos, iniciando do elemento 0 -> elementos [0,1, 1, 2, 3, 5, 8, 13, 21, 34] (obs: não utilize paradigma imperativo)"
   ]
  },
  {
   "cell_type": "code",
   "execution_count": 11,
   "metadata": {},
   "outputs": [
    {
     "name": "stdout",
     "output_type": "stream",
     "text": [
      "Sequência de Fibonacci: [[0, 1], [0, 1], [0, 1], [0, 1, 1], [0, 1, 1, 2], [0, 1, 1, 2, 3], [0, 1, 1, 2, 3, 5], [0, 1, 1, 2, 3, 5, 8], [0, 1, 1, 2, 3, 5, 8, 13], [0, 1, 1, 2, 3, 5, 8, 13, 21]]\n"
     ]
    }
   ],
   "source": [
    "from functools import reduce\n",
    "\n",
    "def fibonacci(n):\n",
    "    return list(map(lambda x: fib(x), range(n)))\n",
    "\n",
    "fib = lambda x: reduce(lambda a, _: a + [a[-1] + a[-2]], range(x - 2), [0, 1])\n",
    "\n",
    "print(fibonacci(10))\n"
   ]
  }
 ],
 "metadata": {
  "kernelspec": {
   "display_name": "Python 3",
   "language": "python",
   "name": "python3"
  },
  "language_info": {
   "codemirror_mode": {
    "name": "ipython",
    "version": 3
   },
   "file_extension": ".py",
   "mimetype": "text/x-python",
   "name": "python",
   "nbconvert_exporter": "python",
   "pygments_lexer": "ipython3",
   "version": "3.12.2"
  }
 },
 "nbformat": 4,
 "nbformat_minor": 2
}
