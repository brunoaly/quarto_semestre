{
 "cells": [
  {
   "cell_type": "code",
   "execution_count": 2,
   "metadata": {},
   "outputs": [
    {
     "name": "stdout",
     "output_type": "stream",
     "text": [
      "ola\n"
     ]
    }
   ],
   "source": [
    "print('ola')"
   ]
  },
  {
   "cell_type": "markdown",
   "metadata": {},
   "source": [
    "# Tipos Básicos & Exibição de Dados"
   ]
  },
  {
   "cell_type": "code",
   "execution_count": 9,
   "metadata": {},
   "outputs": [
    {
     "name": "stdout",
     "output_type": "stream",
     "text": [
      "True\n",
      "False\n",
      "2.2\n",
      "Aqui eu falo na minha lingua\n",
      "tambem funciona\n",
      "Você é muito muito muito legal!\n",
      "[1, 2, 3]\n",
      "{'nome': 'Pedro', 'idade': 22}\n",
      "None\n",
      "0\n",
      "\n",
      "None\n"
     ]
    }
   ],
   "source": [
    "print(True)\n",
    "print(False)\n",
    "print(1.2 + 1)\n",
    "print('Aqui eu falo na minha lingua')\n",
    "print(\"tambem funciona\")\n",
    "print('Você é ' + 3 * 'muito ' + 'legal!')\n",
    "print([1, 2, 3])\n",
    "print({'nome': 'Pedro', 'idade': 22})\n",
    "print(None)\n",
    "print(0)\n",
    "print('')\n",
    "print(None)"
   ]
  },
  {
   "cell_type": "code",
   "execution_count": 12,
   "metadata": {},
   "outputs": [
    {
     "name": "stdout",
     "output_type": "stream",
     "text": [
      "<class 'int'>\n",
      "<class 'float'>\n",
      "<class 'str'>\n"
     ]
    }
   ],
   "source": [
    "a = 10\n",
    "#b = 5.2\n",
    "\n",
    "print(type(a))\n",
    "#print(type(b))\n",
    "\n",
    "a = 5.2\n",
    "print(type(a))\n",
    "\n",
    "a = 'Agora sou uma string!'\n",
    "print(type(a))\n"
   ]
  },
  {
   "cell_type": "code",
   "execution_count": 19,
   "metadata": {},
   "outputs": [
    {
     "name": "stdout",
     "output_type": "stream",
     "text": [
      "Texto com múltiplas\n",
      "... linhas\n"
     ]
    }
   ],
   "source": [
    "# manipulação de String\n",
    "\n",
    "dir(str)\n",
    "\n",
    "nome = 'André Insardi'\n",
    "\n",
    "nome\n",
    "\n",
    "'André Insardi' == \"André Insardi\"\n",
    "\n",
    "texto = 'Texto entre apostrófos pode ter \"aspas\"'\n",
    "texto\n",
    "\n",
    "doc = \"\"\"Texto com múltiplas\n",
    "... linhas\"\"\"\n",
    "print(doc)"
   ]
  },
  {
   "cell_type": "code",
   "execution_count": 35,
   "metadata": {},
   "outputs": [
    {
     "data": {
      "text/plain": [
       "'08642'"
      ]
     },
     "execution_count": 35,
     "metadata": {},
     "output_type": "execute_result"
    }
   ],
   "source": [
    "nome ='Um nome qualquer'\n",
    "\n",
    "nome[0]\n",
    "nome[6]\n",
    "nome[-3]\n",
    "nome[4:]\n",
    "nome[-5:]\n",
    "nome[:3]\n",
    "nome[2:5]\n",
    "\n",
    "numeros = '1234567890'\n",
    "numeros[::]\n",
    "numeros[::2]\n",
    "numeros[1::2]\n",
    "numeros[::-1]\n",
    "numeros[::-2]"
   ]
  },
  {
   "cell_type": "code",
   "execution_count": 48,
   "metadata": {},
   "outputs": [
    {
     "data": {
      "text/plain": [
       "['Python é uma linguag', 'm ', 'xc', 'l', 'nt', '']"
      ]
     },
     "execution_count": 48,
     "metadata": {},
     "output_type": "execute_result"
    }
   ],
   "source": [
    "frase = 'Python é uma linguagem excelente'\n",
    "\n",
    "'py' in frase\n",
    "'ing' in frase\n",
    "'zzz' not in frase\n",
    "\n",
    "len(frase)\n",
    "frase.lower()\n",
    "frase.upper()\n",
    "\n",
    "frase.split()\n",
    "frase.split('e')"
   ]
  },
  {
   "cell_type": "code",
   "execution_count": 57,
   "metadata": {},
   "outputs": [
    {
     "name": "stdout",
     "output_type": "stream",
     "text": [
      "5\n",
      "-3\n",
      "10.6\n",
      "3.1333333333333333\n",
      "3\n",
      "1\n",
      "256\n",
      "9\n",
      "3.0\n"
     ]
    }
   ],
   "source": [
    "# operadores aritimeticos\n",
    "\n",
    "print(2 + 3)\n",
    "print(4 - 7)\n",
    "print(2 * 5.3)\n",
    "print(9.4 / 3)\n",
    "print(10 // 3)\n",
    "print(10 % 3)\n",
    "print(2 ** 8)\n",
    "print(3 ** 2)\n",
    "print(9 ** (1/2))"
   ]
  },
  {
   "cell_type": "markdown",
   "metadata": {},
   "source": [
    "# Lista"
   ]
  },
  {
   "cell_type": "code",
   "execution_count": 21,
   "metadata": {},
   "outputs": [
    {
     "name": "stdout",
     "output_type": "stream",
     "text": [
      "[1, 5, 'Ana', 'Bia', 3.1415, [3.1415, 'andre'], 'Luiz']\n",
      "Bia\n",
      "[3.1415, 'andre']\n",
      "andre\n",
      "ndr\n",
      "d\n",
      "[1, 5, 'Insardi', 'Ana', 'Bia', 3.1415, [3.1415, 'andre'], 'Luiz']\n"
     ]
    },
    {
     "data": {
      "text/plain": [
       "8"
      ]
     },
     "execution_count": 21,
     "metadata": {},
     "output_type": "execute_result"
    }
   ],
   "source": [
    "lista = []\n",
    "type(lista)\n",
    "dir(lista)\n",
    "lista.append(1)\n",
    "lista.append(5)\n",
    "lista\n",
    "\n",
    "\n",
    "nova_lista = [1, 5, 'Ana', 'Bia']  \n",
    "nova_lista \n",
    "type(nova_lista)\n",
    "\n",
    "nova_lista.append(3.1415)\n",
    "nova_lista\n",
    "# nova_lista.append(3.1415,'andre')\n",
    "nova_lista.append([3.1415,'andre'])\n",
    "nova_lista\n",
    "nova_lista.append('Luiz')\n",
    "print(nova_lista)\n",
    "\n",
    "print(nova_lista[3])\n",
    "print(nova_lista[5])\n",
    "print(nova_lista[5][1])\n",
    "print(nova_lista[5][1][1:4])\n",
    "print(nova_lista[5][1][1:4][1])\n",
    "\n",
    "nova_lista.index('Luiz')\n",
    "# nova_lista.index('andre')\n",
    "nova_lista.insert(2, 'Insardi')\n",
    "print(nova_lista)\n",
    "len(nova_lista)"
   ]
  },
  {
   "cell_type": "markdown",
   "metadata": {},
   "source": [
    "# Tupla"
   ]
  },
  {
   "cell_type": "code",
   "execution_count": 22,
   "metadata": {},
   "outputs": [
    {
     "data": {
      "text/plain": [
       "'verde'"
      ]
     },
     "execution_count": 22,
     "metadata": {},
     "output_type": "execute_result"
    }
   ],
   "source": [
    "tupla = ()\n",
    "\n",
    "cores = ('verde', 'amarelo', 'azul', 'branco')\n",
    "cores[0]"
   ]
  },
  {
   "cell_type": "markdown",
   "metadata": {},
   "source": [
    "# Dicionário"
   ]
  },
  {
   "cell_type": "code",
   "execution_count": 37,
   "metadata": {},
   "outputs": [
    {
     "name": "stdout",
     "output_type": "stream",
     "text": [
      "{'nome': 'Prof(a). Ana', 'idade': 38, 'cursos': ['Inglês', 'Português']}\n",
      "Prof(a). Ana\n",
      "38\n",
      "['Inglês', 'Português']\n",
      "Português\n",
      "{'nome': 'Prof(a). Ana', 'idade': 40, 'cursos': ['Inglês', 'Português'], 'Sexo': 'F'}\n",
      "{'nome': 'Prof(a). Ana', 'idade': 25, 'cursos': ['Inglês', 'Português'], 'Sexo': 'F'}\n",
      "{'nome': 'Prof(a). Ana', 'idade': 25, 'cursos': ['Inglês', 'Português', 'Python'], 'Sexo': 'F'}\n"
     ]
    }
   ],
   "source": [
    "pessoa = {'nome': 'Prof(a). Ana', 'idade': 38, 'cursos': ['Inglês', 'Português']}\n",
    "type(pessoa)\n",
    "\n",
    "print(pessoa)\n",
    "print(pessoa['nome'])\n",
    "print(pessoa['idade'])\n",
    "print(pessoa['cursos'])\n",
    "print(pessoa['cursos'][1]) \n",
    "\n",
    "pessoa.update({'idade': 40, 'Sexo': 'F'})\n",
    "\n",
    "print(pessoa)\n",
    "\n",
    "pessoa['idade'] = 25\n",
    "print(pessoa)\n",
    "\n",
    "pessoa['cursos'].append('Python')\n",
    "print(pessoa)\n",
    "\n",
    "pessoa.get('idade')\n",
    "pessoa.get('tag')"
   ]
  },
  {
   "cell_type": "markdown",
   "metadata": {},
   "source": [
    "# IF ELSE"
   ]
  },
  {
   "cell_type": "code",
   "execution_count": 45,
   "metadata": {},
   "outputs": [
    {
     "name": "stdout",
     "output_type": "stream",
     "text": [
      "diferentes\n"
     ]
    }
   ],
   "source": [
    "a = 3\n",
    "b = 3\n",
    "\n",
    "if a != b and a > 2:\n",
    "    print('iguais') \n",
    "else:  \n",
    "    print('diferentes')\n"
   ]
  },
  {
   "cell_type": "code",
   "execution_count": 46,
   "metadata": {},
   "outputs": [
    {
     "name": "stdout",
     "output_type": "stream",
     "text": [
      "A\n"
     ]
    }
   ],
   "source": [
    "nota = 9.3\n",
    "\n",
    "if nota >= 9:\n",
    "    print('A')\n",
    "elif nota >= 8:\n",
    "    print('B')\n",
    "elif nota >= 7:\n",
    "    print('C')\n",
    "else:\n",
    "    print('D')\n"
   ]
  },
  {
   "cell_type": "markdown",
   "metadata": {},
   "source": [
    "# Loop"
   ]
  },
  {
   "cell_type": "code",
   "execution_count": 50,
   "metadata": {},
   "outputs": [
    {
     "name": "stdout",
     "output_type": "stream",
     "text": [
      "i = 1\n",
      "i = 2\n",
      "i = 3\n",
      "i = 4\n",
      "i = 5\n",
      "i = 6\n",
      "i = 7\n",
      "i = 8\n",
      "i = 9\n",
      "i = 10\n",
      "1 * 1 = 1\n",
      "1 * 2 = 2\n",
      "1 * 3 = 3\n",
      "1 * 4 = 4\n",
      "1 * 5 = 5\n",
      "1 * 6 = 6\n",
      "1 * 7 = 7\n",
      "1 * 8 = 8\n",
      "1 * 9 = 9\n",
      "1 * 10 = 10\n",
      "2 * 1 = 2\n",
      "2 * 2 = 4\n",
      "2 * 3 = 6\n",
      "2 * 4 = 8\n",
      "2 * 5 = 10\n",
      "2 * 6 = 12\n",
      "2 * 7 = 14\n",
      "2 * 8 = 16\n",
      "2 * 9 = 18\n",
      "2 * 10 = 20\n",
      "3 * 1 = 3\n",
      "3 * 2 = 6\n",
      "3 * 3 = 9\n",
      "3 * 4 = 12\n",
      "3 * 5 = 15\n",
      "3 * 6 = 18\n",
      "3 * 7 = 21\n",
      "3 * 8 = 24\n",
      "3 * 9 = 27\n",
      "3 * 10 = 30\n",
      "4 * 1 = 4\n",
      "4 * 2 = 8\n",
      "4 * 3 = 12\n",
      "4 * 4 = 16\n",
      "4 * 5 = 20\n",
      "4 * 6 = 24\n",
      "4 * 7 = 28\n",
      "4 * 8 = 32\n",
      "4 * 9 = 36\n",
      "4 * 10 = 40\n",
      "5 * 1 = 5\n",
      "5 * 2 = 10\n",
      "5 * 3 = 15\n",
      "5 * 4 = 20\n",
      "5 * 5 = 25\n",
      "5 * 6 = 30\n",
      "5 * 7 = 35\n",
      "5 * 8 = 40\n",
      "5 * 9 = 45\n",
      "5 * 10 = 50\n",
      "6 * 1 = 6\n",
      "6 * 2 = 12\n",
      "6 * 3 = 18\n",
      "6 * 4 = 24\n",
      "6 * 5 = 30\n",
      "6 * 6 = 36\n",
      "6 * 7 = 42\n",
      "6 * 8 = 48\n",
      "6 * 9 = 54\n",
      "6 * 10 = 60\n",
      "7 * 1 = 7\n",
      "7 * 2 = 14\n",
      "7 * 3 = 21\n",
      "7 * 4 = 28\n",
      "7 * 5 = 35\n",
      "7 * 6 = 42\n",
      "7 * 7 = 49\n",
      "7 * 8 = 56\n",
      "7 * 9 = 63\n",
      "7 * 10 = 70\n",
      "8 * 1 = 8\n",
      "8 * 2 = 16\n",
      "8 * 3 = 24\n",
      "8 * 4 = 32\n",
      "8 * 5 = 40\n",
      "8 * 6 = 48\n",
      "8 * 7 = 56\n",
      "8 * 8 = 64\n",
      "8 * 9 = 72\n",
      "8 * 10 = 80\n",
      "9 * 1 = 9\n",
      "9 * 2 = 18\n",
      "9 * 3 = 27\n",
      "9 * 4 = 36\n",
      "9 * 5 = 45\n",
      "9 * 6 = 54\n",
      "9 * 7 = 63\n",
      "9 * 8 = 72\n",
      "9 * 9 = 81\n",
      "9 * 10 = 90\n",
      "10 * 1 = 10\n",
      "10 * 2 = 20\n",
      "10 * 3 = 30\n",
      "10 * 4 = 40\n",
      "10 * 5 = 50\n",
      "10 * 6 = 60\n",
      "10 * 7 = 70\n",
      "10 * 8 = 80\n",
      "10 * 9 = 90\n",
      "10 * 10 = 100\n"
     ]
    }
   ],
   "source": [
    "for i in range(1, 11):\n",
    "    print('i = {}'.format(i))\n",
    "\n",
    "\n",
    "for i in range(1, 11):\n",
    "    for j in range(1, 11):\n",
    "        print(f'{i} * {j} = {i * j}')"
   ]
  },
  {
   "cell_type": "code",
   "execution_count": 61,
   "metadata": {},
   "outputs": [
    {
     "name": "stdout",
     "output_type": "stream",
     "text": [
      "A pessoa Prof(a). Ana cursa:\n",
      " - Inglês\n",
      " - Português\n",
      "A pessoa Andre cursa:\n",
      " - Python\n",
      " - React\n",
      " - .Net\n",
      " - Java\n",
      " - C#\n",
      "A pessoa Bia cursa:\n",
      " - Python\n",
      " - React\n",
      " - C#\n",
      "A pessoa João cursa:\n",
      " - React\n",
      " - .Net\n",
      " - C#\n"
     ]
    }
   ],
   "source": [
    "pessoa1 = {'nome': 'Prof(a). Ana', 'idade': 38, 'cursos': ['Inglês', 'Português']}\n",
    "pessoa2 = {'nome': 'Andre', 'idade': 36, 'cursos': ['Python', 'React', '.Net', 'Java', 'C#']}\n",
    "pessoa3 = {'nome': 'Bia', 'idade': 22, 'cursos':  ['Python', 'React', 'C#']}\n",
    "pessoa4 = {'nome': 'João', 'idade': 29, 'cursos':  [ 'React', '.Net', 'C#']}\n",
    "\n",
    "lista_pessoas = [pessoa1, pessoa2, pessoa3, pessoa4]\n",
    "\n",
    "lista_pessoas[2]['cursos'][1]\n",
    "#print(lista_pessoas)   \n",
    "\n",
    "for pessoa in lista_pessoas:\n",
    "    nome = pessoa['nome']\n",
    "    print(f'A pessoa {nome} cursa:')\n",
    "    for curso in pessoa['cursos']:\n",
    "        print(f' - {curso}')\n"
   ]
  }
 ],
 "metadata": {
  "kernelspec": {
   "display_name": "Python 3",
   "language": "python",
   "name": "python3"
  },
  "language_info": {
   "codemirror_mode": {
    "name": "ipython",
    "version": 3
   },
   "file_extension": ".py",
   "mimetype": "text/x-python",
   "name": "python",
   "nbconvert_exporter": "python",
   "pygments_lexer": "ipython3",
   "version": "3.11.4"
  },
  "orig_nbformat": 4
 },
 "nbformat": 4,
 "nbformat_minor": 2
}
