{
  "cells": [
    {
      "cell_type": "markdown",
      "metadata": {
        "id": "PxcQyxld1HRd"
      },
      "source": [
        "  Criação do db e tabelas"
      ]
    },
    {
      "cell_type": "code",
      "execution_count": 3,
      "metadata": {
        "colab": {
          "base_uri": "https://localhost:8080/"
        },
        "id": "aft7gba2jcMz",
        "outputId": "182d3bd0-3e67-4bd0-d43d-0bc84107100d"
      },
      "outputs": [
        {
          "name": "stdout",
          "output_type": "stream",
          "text": [
            "Tabela criado com sucesso\n"
          ]
        }
      ],
      "source": [
        "import sqlite3\n",
        "\n",
        "conn = sqlite3.connect('espm.db')\n",
        "\n",
        "cursor = conn.cursor()\n",
        "\n",
        "cursor.execute(\"\"\"\n",
        "CREATE TABLE IF NOT EXISTS autor(\n",
        "        id_autor INTEGER PRIMARY KEY AUTOINCREMENT,\n",
        "        nome VARCHAR(50)\n",
        "    );\n",
        "\"\"\")\n",
        "\n",
        "cursor.execute(\"\"\"\n",
        "CREATE TABLE post(\n",
        "        id_post INTEGER PRIMARY KEY AUTOINCREMENT,\n",
        "        id_autor INT,\n",
        "        titulo VARCHAR(50),\n",
        "        data DATETIME DEFAULT CURRENT_TIMESTAMP,\n",
        "        FOREIGN KEY (id_autor) REFERENCES autor(id_autor)\n",
        "    )\n",
        ";\n",
        "\"\"\")\n",
        "\n",
        "conn.commit()\n",
        "\n",
        "print('Tabela criado com sucesso')\n",
        "\n",
        "conn.close()"
      ]
    },
    {
      "cell_type": "markdown",
      "metadata": {
        "id": "Cwp01kyk1RqY"
      },
      "source": [
        "Criação autores"
      ]
    },
    {
      "cell_type": "code",
      "execution_count": 5,
      "metadata": {
        "colab": {
          "base_uri": "https://localhost:8080/"
        },
        "id": "uwt2ogvwke6U",
        "outputId": "455fb7d4-676a-4a71-c825-5448bf1b593b"
      },
      "outputs": [
        {
          "name": "stdout",
          "output_type": "stream",
          "text": [
            "Digite o nome do autor: bruno\n",
            "[(1, 'joao'), (2, 'bruno')]\n"
          ]
        }
      ],
      "source": [
        "conn = sqlite3.connect('espm.db')\n",
        "\n",
        "cursor = conn.cursor()\n",
        "\n",
        "nome = input('Digite o nome do autor: ')\n",
        "\n",
        "cursor.execute(\"INSERT into autor (nome) VALUES(?)\",\n",
        "    (nome,))\n",
        "conn.commit()\n",
        "\n",
        "cursor.execute('SELECT * from autor')\n",
        "print(cursor.fetchall())\n",
        "\n",
        "\n",
        "conn.close()\n",
        "\n",
        "\n"
      ]
    },
    {
      "cell_type": "markdown",
      "metadata": {
        "id": "jAqbAXVm1XkS"
      },
      "source": [
        "Criação posts\n"
      ]
    },
    {
      "cell_type": "code",
      "execution_count": 6,
      "metadata": {
        "colab": {
          "base_uri": "https://localhost:8080/"
        },
        "id": "f2cMrrvDldjI",
        "outputId": "e99589a5-1f3d-419f-d47e-14af1993a47b"
      },
      "outputs": [
        {
          "name": "stdout",
          "output_type": "stream",
          "text": [
            "[(1, 'joao'), (2, 'bruno')]\n",
            "titulo do post:opa\n",
            "id do autor do post:2\n",
            "post feito!\n",
            "[(1, 2, 'opa', '2024-03-19 11:24:53')]\n"
          ]
        }
      ],
      "source": [
        "conn = sqlite3.connect('espm.db')\n",
        "\n",
        "cursor = conn.cursor()\n",
        "\n",
        "cursor.execute('SELECT * from autor')\n",
        "print(cursor.fetchall())\n",
        "\n",
        "titulo = input('titulo do post:')\n",
        "id = int(input('id do autor do post:'))\n",
        "\n",
        "cursor.execute(\"SELECT * from autor WHERE id_autor = ?\", (id,))\n",
        "idAutores = cursor.fetchall()\n",
        "\n",
        "if(len(idAutores) > 0):\n",
        "  cursor.execute(\"INSERT into post (id_autor, titulo) VALUES(?, ?)\",\n",
        "    (idAutores[0][0], titulo))\n",
        "  conn.commit()\n",
        "  print('post feito!')\n",
        "else:\n",
        "  print('autor do post não existe')\n",
        "\n",
        "cursor.execute('SELECT * from post')\n",
        "print(cursor.fetchall())\n",
        "\n",
        "conn.close()"
      ]
    },
    {
      "cell_type": "markdown",
      "metadata": {
        "id": "VBeBCzix2ZTi"
      },
      "source": [
        "update autor\n"
      ]
    },
    {
      "cell_type": "code",
      "execution_count": 8,
      "metadata": {
        "colab": {
          "base_uri": "https://localhost:8080/"
        },
        "id": "IuA9PL5CmHoA",
        "outputId": "70a5d3a4-f999-462e-91af-7aacaabcf1c5"
      },
      "outputs": [
        {
          "name": "stdout",
          "output_type": "stream",
          "text": [
            "[(1, 'joao'), (2, 'bruno')]\n",
            "id do autor que deseja alterar: 2\n",
            "novo nome:john\n",
            "autor atualizado!\n",
            "[(1, 'joao'), (2, 'john')]\n"
          ]
        }
      ],
      "source": [
        "conn = sqlite3.connect('espm.db')\n",
        "\n",
        "cursor = conn.cursor()\n",
        "\n",
        "cursor.execute('SELECT * from autor')\n",
        "print(cursor.fetchall())\n",
        "\n",
        "nomeAntigo = int(input('id do autor que deseja alterar: '))\n",
        "\n",
        "cursor.execute(\"SELECT * from autor WHERE id_autor = ?\", (nomeAntigo,))\n",
        "idAutores = cursor.fetchall()\n",
        "\n",
        "if(len(idAutores) > 0):\n",
        "  nome = input('novo nome:')\n",
        "  cursor.execute(\"UPDATE autor SET nome = ? WHERE id_autor = ?\", (nome,nomeAntigo))\n",
        "  conn.commit()\n",
        "  print('autor atualizado!')\n",
        "else:\n",
        "  print('autor não encontrado')\n",
        "\n",
        "cursor.execute('SELECT * from autor')\n",
        "print(cursor.fetchall())\n",
        "conn.close()"
      ]
    },
    {
      "cell_type": "markdown",
      "metadata": {
        "id": "x1sPguSy4QPb"
      },
      "source": [
        "update posts\n"
      ]
    },
    {
      "cell_type": "code",
      "execution_count": 9,
      "metadata": {
        "colab": {
          "base_uri": "https://localhost:8080/"
        },
        "id": "rWVsSZrgmlsC",
        "outputId": "a80f3fae-b6bd-4b09-9133-a5e5ff499e23"
      },
      "outputs": [
        {
          "name": "stdout",
          "output_type": "stream",
          "text": [
            "[(1, 2, 'opa', '2024-03-19 11:24:53')]\n",
            "id do post que deseja alterar: 1\n",
            "novo título:festa no tamer\n",
            "post atualizado!\n"
          ]
        }
      ],
      "source": [
        "conn = sqlite3.connect('espm.db')\n",
        "\n",
        "cursor = conn.cursor()\n",
        "\n",
        "cursor.execute(\"SELECT * from post\")\n",
        "posts = cursor.fetchall()\n",
        "print(posts)\n",
        "\n",
        "postAntigo = int(input('id do post que deseja alterar: '))\n",
        "cursor.execute('SELECT * from post WHERE id_post = ?', (postAntigo,))\n",
        "idPosts = cursor.fetchall()\n",
        "\n",
        "if(len(idPosts) > 0):\n",
        "  titulo = input('novo título:')\n",
        "  cursor.execute(\"UPDATE post SET titulo = ? WHERE id_post = ?\", (titulo,idPosts[0][0]))\n",
        "  conn.commit()\n",
        "  print('post atualizado!')\n",
        "else:\n",
        "  print('post não encontrado')\n",
        "\n",
        "cursor.execute(\"SELECT * from post\")\n",
        "posts = cursor.fetchall()\n",
        "print(posts)\n",
        "\n",
        "conn.close()"
      ]
    },
    {
      "cell_type": "markdown",
      "metadata": {
        "id": "yuH9u4vWoKCl"
      },
      "source": [
        "# DELETE autor\n"
      ]
    },
    {
      "cell_type": "code",
      "execution_count": 15,
      "metadata": {
        "colab": {
          "base_uri": "https://localhost:8080/"
        },
        "id": "saJD4VHzoReb",
        "outputId": "cc158e0b-ad2c-4cde-eafa-2b0c0cb2ce79"
      },
      "outputs": [
        {
          "name": "stdout",
          "output_type": "stream",
          "text": [
            "[(1, 'joao'), (2, 'john')]\n",
            "id do autor a deletar: 2\n",
            "autor deletado\n",
            "[(1, 'joao')]\n"
          ]
        }
      ],
      "source": [
        "conn = sqlite3.connect('espm.db')\n",
        "\n",
        "cursor = conn.cursor()\n",
        "\n",
        "cursor.execute('SELECT * from autor')\n",
        "print(cursor.fetchall())\n",
        "\n",
        "id = int(input('id do autor a deletar: '))\n",
        "\n",
        "cursor.execute('DELETE from autor WHERE id_autor = ?', (id, ))\n",
        "\n",
        "print('autor deletado')\n",
        "\n",
        "cursor.execute('SELECT * from autor')\n",
        "print(cursor.fetchall())\n",
        "\n",
        "conn.close()"
      ]
    },
    {
      "cell_type": "markdown",
      "metadata": {
        "id": "SUZ_DXxVc9Iq"
      },
      "source": [
        "DELETE post\n"
      ]
    },
    {
      "cell_type": "code",
      "execution_count": 17,
      "metadata": {
        "colab": {
          "base_uri": "https://localhost:8080/"
        },
        "id": "KL9W1y7Ac8q_",
        "outputId": "5c3c998f-dd22-40f0-868e-d120d187dd24"
      },
      "outputs": [
        {
          "name": "stdout",
          "output_type": "stream",
          "text": [
            "[(1, 2, 'festa no tamer', '2024-03-19 11:24:53')]\n",
            "id do post a deletar: 1\n",
            "post deletado\n",
            "[]\n"
          ]
        }
      ],
      "source": [
        "conn = sqlite3.connect('espm.db')\n",
        "\n",
        "cursor = conn.cursor()\n",
        "\n",
        "cursor.execute('SELECT * from post')\n",
        "print(cursor.fetchall())\n",
        "\n",
        "id = int(input('id do post a deletar: '))\n",
        "\n",
        "cursor.execute('DELETE from post WHERE id_post = ?', (id,))\n",
        "\n",
        "print('post deletado')\n",
        "\n",
        "cursor.execute('SELECT * from post')\n",
        "print(cursor.fetchall())\n",
        "conn.close()"
      ]
    }
  ],
  "metadata": {
    "colab": {
      "provenance": []
    },
    "kernelspec": {
      "display_name": "Python 3",
      "name": "python3"
    },
    "language_info": {
      "name": "python",
      "version": "3.12.2"
    }
  },
  "nbformat": 4,
  "nbformat_minor": 0
}
